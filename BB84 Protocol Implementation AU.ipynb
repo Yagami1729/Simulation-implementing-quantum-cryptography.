{
 "cells": [
  {
   "cell_type": "code",
   "execution_count": 1,
   "id": "cfc9508c-790c-4351-89d3-c1095fc36feb",
   "metadata": {},
   "outputs": [],
   "source": [
    "from qiskit import QuantumCircuit, Aer, transpile, assemble, execute\n",
    "from qiskit.visualization import plot_histogram, plot_bloch_multivector\n",
    "from numpy.random import randint\n",
    "import numpy as np"
   ]
  },
  {
   "cell_type": "code",
   "execution_count": 2,
   "id": "38a073cb-4a72-4f76-8609-7b7bcf63dd23",
   "metadata": {},
   "outputs": [
    {
     "name": "stdin",
     "output_type": "stream",
     "text": [
      "Please enter the number of bits you want to send to the user(Upper Limit: 100):  100\n"
     ]
    },
    {
     "name": "stdout",
     "output_type": "stream",
     "text": [
      "The randomly generates bit sequence is: 1011000101011000000100000101100110011110011001000100101111110100000000101111101111011111111011011011\n"
     ]
    }
   ],
   "source": [
    "nBits = int(input(\"Please enter the number of bits you want to send to the user(Upper Limit: 100): \"))\n",
    "bits = \"\"\n",
    "arr = randint(2, size = nBits)\n",
    "for i in arr:\n",
    "    bits += str(i)\n",
    "\n",
    "basesServer = \"\"\n",
    "arr = randint(2, size = nBits)\n",
    "for i in arr:\n",
    "    if i == 0:\n",
    "        basesServer += 'X'\n",
    "    else:\n",
    "        basesServer += 'Z'\n",
    "        \n",
    "print(\"The randomly generates bit sequence is:\", bits)"
   ]
  },
  {
   "cell_type": "code",
   "execution_count": 3,
   "id": "6b397852-c483-4206-9ba6-99c29726f821",
   "metadata": {},
   "outputs": [],
   "source": [
    "def bitsToQubits(bits, bases):\n",
    "    qubitsSent = []\n",
    "    for i in range(nBits):\n",
    "        qc = QuantumCircuit(1, 1)\n",
    "        if bases[i] == 'Z':\n",
    "            if bits[i] == 0:\n",
    "                pass\n",
    "            else:\n",
    "                qc.x(0)\n",
    "        else:\n",
    "            if bits[i] == 0:\n",
    "                qc.h(0)\n",
    "            else:\n",
    "                qc.x(0)\n",
    "                qc.h(0)\n",
    "        qubitsSent.append(qc)\n",
    "    return qubitsSent"
   ]
  },
  {
   "cell_type": "code",
   "execution_count": 4,
   "id": "af1ce20e-86e6-47cd-9f46-d368492a9359",
   "metadata": {},
   "outputs": [
    {
     "name": "stdout",
     "output_type": "stream",
     "text": [
      "Please Wait! Converting Bits to Qubits\n",
      "User Computer has randomly generated bases sequence!\n"
     ]
    }
   ],
   "source": [
    "print(\"Please Wait! Converting Bits to Qubits\")\n",
    "qubitsSent = bitsToQubits(bits, basesServer)\n",
    "\n",
    "basesUser = \"\"\n",
    "arr = randint(2, size = nBits)\n",
    "for i in arr:\n",
    "    if i == 0:\n",
    "        basesUser += 'X'\n",
    "    else:\n",
    "        basesUser += 'Z'\n",
    "print(\"User Computer has randomly generated bases sequence!\")"
   ]
  },
  {
   "cell_type": "code",
   "execution_count": 5,
   "id": "f31237b2-d6c2-4ad8-ba66-c6487306b465",
   "metadata": {},
   "outputs": [],
   "source": [
    "def qubitsToBits(qubits, bases):\n",
    "    backend = Aer.get_backend('aer_simulator')\n",
    "    bitsUser = []\n",
    "    for i in range(nBits):\n",
    "        if bases[i] == 'Z':\n",
    "            qubits[i].measure(0, 0)\n",
    "        else:\n",
    "            qubits[i].measure(0, 0)\n",
    "        aer_sim = Aer.get_backend('aer_simulator')\n",
    "        qobj = assemble(qubits[i], shots=1, memory=True)\n",
    "        result = aer_sim.run(qobj).result()\n",
    "        measured_bit = int(result.get_memory()[0])\n",
    "        bitsUser.append(measured_bit)\n",
    "    return bitsUser"
   ]
  },
  {
   "cell_type": "code",
   "execution_count": 6,
   "id": "f7b64ef3-2f3e-4181-b5ca-db7cd82b9a39",
   "metadata": {},
   "outputs": [
    {
     "name": "stdout",
     "output_type": "stream",
     "text": [
      "Please Wait! Converting Qubits to bits\n"
     ]
    },
    {
     "name": "stderr",
     "output_type": "stream",
     "text": [
      "/opt/conda/lib/python3.8/site-packages/qiskit/utils/deprecation.py:62: DeprecationWarning: Using a qobj for run() is deprecated as of qiskit-aer 0.9.0 and will be removed no sooner than 3 months from that release date. Transpiled circuits should now be passed directly using `backend.run(circuits, **run_options).\n",
      "  return func(*args, **kwargs)\n"
     ]
    }
   ],
   "source": [
    "print(\"Please Wait! Converting Qubits to bits\")\n",
    "bitsUser = qubitsToBits(qubitsSent, basesUser)"
   ]
  },
  {
   "cell_type": "code",
   "execution_count": 7,
   "id": "758998f4-ce0c-4855-8405-9e88812ec415",
   "metadata": {},
   "outputs": [
    {
     "name": "stdout",
     "output_type": "stream",
     "text": [
      "KEY GENERATED!!\n",
      "ALL THE FOLLOWING MESSAGES WILL BE ENCRYPTED BY KEY: 11111111110111111111101110111111111110011011010111111\n"
     ]
    }
   ],
   "source": [
    "common = []\n",
    "for i in range(nBits):\n",
    "    if basesUser[i] == basesServer[i]:\n",
    "        common.append(str(bitsUser[i]))\n",
    "    else:\n",
    "        pass\n",
    "    \n",
    "print(\"KEY GENERATED!!\")\n",
    "print(\"ALL THE FOLLOWING MESSAGES WILL BE ENCRYPTED BY KEY:\", ''.join(common))"
   ]
  }
 ],
 "metadata": {
  "kernelspec": {
   "display_name": "Qiskit v0.30.1 (ipykernel)",
   "language": "python",
   "name": "python3"
  },
  "language_info": {
   "codemirror_mode": {
    "name": "ipython",
    "version": 3
   },
   "file_extension": ".py",
   "mimetype": "text/x-python",
   "name": "python",
   "nbconvert_exporter": "python",
   "pygments_lexer": "ipython3",
   "version": "3.8.10"
  },
  "widgets": {
   "application/vnd.jupyter.widget-state+json": {
    "state": {},
    "version_major": 2,
    "version_minor": 0
   }
  }
 },
 "nbformat": 4,
 "nbformat_minor": 5
}
